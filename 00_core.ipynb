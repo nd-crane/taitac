{
 "cells": [
  {
   "cell_type": "markdown",
   "metadata": {},
   "source": [
    "# core\n",
    "\n",
    "> Fill in a module description here"
   ]
  },
  {
   "cell_type": "code",
   "execution_count": null,
   "metadata": {},
   "outputs": [],
   "source": [
    "#| default_exp core"
   ]
  },
  {
   "cell_type": "markdown",
   "metadata": {},
   "source": [
    "## Quickstart for setting up llm\n",
    "- [OpenAI QuickStart Guide](https://platform.openai.com/docs/quickstart?context=python)\n",
    "- [LLM Docs](https://llm.datasette.io/en/stable/)\n",
    "- [Python API - LLM](https://llm.datasette.io/en/stable/python-api.html)"
   ]
  },
  {
   "cell_type": "code",
   "execution_count": 1,
   "metadata": {},
   "outputs": [
    {
     "name": "stdout",
     "output_type": "stream",
     "text": [
      "{\n",
      "  \"role\": \"assistant\",\n",
      "  \"content\": \"In the realm of code, a tale unfolds,\\nOf a concept intriguing, yet often untold.\\nA dance of logic, a loop's embrace,\\nA phenomenon known as recursion, with grace.\\n\\nImagine a function, bold and profound,\\nWith the power to call itself, unbound.\\nA mesmerizing journey, infinite in scope,\\nAs it enters a world where dreams elope.\\n\\nWith a problem at hand, too vast to bear,\\nRecursion steps forth, without a care.\\nBreaking it down into fragments small,\\nSeeking solutions, both mighty and tall.\\n\\nLike a Russian doll, nested deep within,\\nLayers upon layers, where wonders begin.\\nA question answered brings forth another,\\nAs the code journeys, from one to another.\\n\\nThrough a labyrinth of branches, it roams,\\nTraversing paths, discovering new homes.\\nWith each recursive call, a leap it takes,\\nDividing the puzzle into smaller stakes.\\n\\nFirst, a base case, a condition to halt,\\nWherein the recursion, no longer exalts.\\nFor the infinite cycle would surely ensue,\\nWithout this guard, a programmer's rescue.\\n\\nWith wisdom and wit, recursion does thrive,\\nBy passing the baton, keeping hope alive.\\nFrom function to function, in a seamless flow,\\nIt conquers complexities, helping them go.\\n\\nYet caution, dear coder, for danger lurks,\\nThe mighty stack grows, as recursion works.\\nToo many calls can lead to its demise,\\nOverflowing memories, a sobering surprise.\\n\\nBut fear not, my friend, for recursion's might,\\nCan decipher problems, unraveling the night.\\nWith elegance and finesse, it brings a solution,\\nUnveiling the secrets of software's evolution.\\n\\nSo embrace this concept, as old as time,\\nA mystical endeavor, a paradigm sublime.\\nFor recursion is an art, a symphony grand,\\nIn the realm of coding, where wonders expand.\"\n",
      "}\n"
     ]
    }
   ],
   "source": [
    "import os\n",
    "import openai\n",
    "openai.api_key = os.getenv(\"OPENAI_API_KEY\")\n",
    "\n",
    "completion = openai.ChatCompletion.create(\n",
    "  model=\"gpt-3.5-turbo\",\n",
    "  messages=[\n",
    "    {\"role\": \"system\", \"content\": \"You are a poetic assistant, skilled in explaining complex programming concepts with creative flair.\"},\n",
    "    {\"role\": \"user\", \"content\": \"Compose a poem that explains the concept of recursion in programming.\"}\n",
    "  ]\n",
    ")\n",
    "\n",
    "print(completion.choices[0].message)"
   ]
  },
  {
   "cell_type": "code",
   "execution_count": null,
   "metadata": {},
   "outputs": [],
   "source": [
    "#| hide\n",
    "from nbdev.showdoc import *"
   ]
  },
  {
   "cell_type": "code",
   "execution_count": null,
   "metadata": {},
   "outputs": [],
   "source": [
    "#| export\n",
    "def foo(): pass"
   ]
  },
  {
   "cell_type": "code",
   "execution_count": null,
   "metadata": {},
   "outputs": [],
   "source": [
    "#| hide\n",
    "import nbdev; nbdev.nbdev_export()"
   ]
  }
 ],
 "metadata": {
  "kernelspec": {
   "display_name": "python3",
   "language": "python",
   "name": "python3"
  },
  "language_info": {
   "codemirror_mode": {
    "name": "ipython",
    "version": 3
   },
   "file_extension": ".py",
   "mimetype": "text/x-python",
   "name": "python",
   "nbconvert_exporter": "python",
   "pygments_lexer": "ipython3",
   "version": "3.9.18"
  }
 },
 "nbformat": 4,
 "nbformat_minor": 4
}
