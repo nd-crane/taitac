{
 "cells": [
  {
   "cell_type": "markdown",
   "metadata": {},
   "source": [
    "# LLAMA experiments with React\n",
    "\n",
    "- [Llama 2: AI Developers Handbook and Langchain Agents](https://www.pinecone.io/learn/llama-2/)\n",
    "- [How to use Mistral AI Instruct model to generate structured content similar to Open AI functions](https://advanced-stack.com/resources/how-to-use-mistral-ai-instruct-model-to-generate-structured-content-similar-to-open-ai-functions.html)"
   ]
  }
 ],
 "metadata": {
  "language_info": {
   "name": "python"
  }
 },
 "nbformat": 4,
 "nbformat_minor": 2
}
